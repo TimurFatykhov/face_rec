{
 "cells": [
  {
   "cell_type": "code",
   "execution_count": 1,
   "metadata": {},
   "outputs": [
    {
     "name": "stdout",
     "output_type": "stream",
     "text": [
      "Wed Feb 20 13:54:30 2019       \r\n",
      "+-----------------------------------------------------------------------------+\r\n",
      "| NVIDIA-SMI 390.87                 Driver Version: 390.87                    |\r\n",
      "|-------------------------------+----------------------+----------------------+\r\n",
      "| GPU  Name        Persistence-M| Bus-Id        Disp.A | Volatile Uncorr. ECC |\r\n",
      "| Fan  Temp  Perf  Pwr:Usage/Cap|         Memory-Usage | GPU-Util  Compute M. |\r\n",
      "|===============================+======================+======================|\r\n",
      "|   0  GeForce GTX 1080    On   | 00000000:01:00.0 Off |                  N/A |\r\n",
      "| 33%   34C    P8    10W / 200W |      1MiB /  8117MiB |      0%      Default |\r\n",
      "+-------------------------------+----------------------+----------------------+\r\n",
      "|   1  GeForce GTX 1080    On   | 00000000:02:00.0 Off |                  N/A |\r\n",
      "| 33%   29C    P8     6W / 200W |    566MiB /  8119MiB |      0%      Default |\r\n",
      "+-------------------------------+----------------------+----------------------+\r\n",
      "                                                                               \r\n",
      "+-----------------------------------------------------------------------------+\r\n",
      "| Processes:                                                       GPU Memory |\r\n",
      "|  GPU       PID   Type   Process name                             Usage      |\r\n",
      "|=============================================================================|\r\n",
      "|    1      5307      C   /home/timur/anaconda3/bin/python             555MiB |\r\n",
      "+-----------------------------------------------------------------------------+\r\n"
     ]
    }
   ],
   "source": [
    "!nvidia-smi"
   ]
  },
  {
   "cell_type": "code",
   "execution_count": 2,
   "metadata": {},
   "outputs": [
    {
     "name": "stdout",
     "output_type": "stream",
     "text": [
      "env: CUDA_DEVICE_ORDER=PCI_BUS_ID\n",
      "env: CUDA_VISIBLE_DEVICES=0\n"
     ]
    }
   ],
   "source": [
    "%env CUDA_DEVICE_ORDER=PCI_BUS_ID\n",
    "%env CUDA_VISIBLE_DEVICES=0"
   ]
  },
  {
   "cell_type": "code",
   "execution_count": 9,
   "metadata": {
    "collapsed": true
   },
   "outputs": [],
   "source": [
    "from keras.datasets import mnist\n",
    "from keras import Model\n",
    "import numpy as np\n",
    "import matplotlib.pyplot as plt \n",
    "import matplotlib.image as mpimg\n",
    "import glob\n",
    "import scipy\n",
    "%matplotlib inline"
   ]
  },
  {
   "cell_type": "code",
   "execution_count": 4,
   "metadata": {},
   "outputs": [
    {
     "name": "stdout",
     "output_type": "stream",
     "text": [
      "CPU times: user 5.57 s, sys: 1.98 s, total: 7.55 s\n",
      "Wall time: 58.6 s\n"
     ]
    }
   ],
   "source": [
    "%%time \n",
    "img_size = 64\n",
    "\n",
    "samples = glob.glob('./gray_imgs/lfwcrop_grey/faces/*')\n",
    "data = []\n",
    "\n",
    "for s in samples:\n",
    "    img = mpimg.imread(s)\n",
    "    data.append(np.expand_dims(img, 0))\n",
    "        \n",
    "# faces = np.concatenate(faces)"
   ]
  },
  {
   "cell_type": "code",
   "execution_count": 82,
   "metadata": {
    "collapsed": true
   },
   "outputs": [],
   "source": [
    "faces = np.concatenate(data, axis=0)"
   ]
  },
  {
   "cell_type": "code",
   "execution_count": 83,
   "metadata": {},
   "outputs": [
    {
     "data": {
      "text/plain": [
       "(13233, 64, 64)"
      ]
     },
     "execution_count": 83,
     "metadata": {},
     "output_type": "execute_result"
    }
   ],
   "source": [
    "faces.shape"
   ]
  },
  {
   "cell_type": "code",
   "execution_count": null,
   "metadata": {
    "collapsed": true
   },
   "outputs": [],
   "source": []
  },
  {
   "cell_type": "code",
   "execution_count": 84,
   "metadata": {
    "collapsed": true
   },
   "outputs": [],
   "source": [
    "angles = np.random.randint(0, 110, len(faces))\n",
    "sides = np.random.randint(0, 2, len(faces)) * 2 - 1 \n",
    "\n",
    "angles = angles * sides\n",
    "\n",
    "rotated = np.empty_like(faces)\n",
    "\n",
    "for i, f in enumerate(faces):\n",
    "    rotated[i] = scipy.ndimage.rotate(f, angles[i], axes=(0, 1), reshape=False)"
   ]
  },
  {
   "cell_type": "code",
   "execution_count": 86,
   "metadata": {
    "collapsed": true
   },
   "outputs": [],
   "source": [
    "# prepare data\n",
    "faces = faces / 255.\n",
    "rotated = rotated / 255."
   ]
  },
  {
   "cell_type": "code",
   "execution_count": 87,
   "metadata": {},
   "outputs": [
    {
     "data": {
      "text/plain": [
       "<matplotlib.image.AxesImage at 0x7f8b70091cf8>"
      ]
     },
     "execution_count": 87,
     "metadata": {},
     "output_type": "execute_result"
    },
    {
     "data": {
      "image/png": "[encoded data removed]",
      "text/plain": [
       "<Figure size 432x288 with 1 Axes>"
      ]
     },
     "metadata": {},
     "output_type": "display_data"
    }
   ],
   "source": [
    "plt.imshow(rotated[10])"
   ]
  },
  {
   "cell_type": "code",
   "execution_count": 88,
   "metadata": {},
   "outputs": [
    {
     "data": {
      "text/plain": [
       "<matplotlib.image.AxesImage at 0x7f8b647d5d30>"
      ]
     },
     "execution_count": 88,
     "metadata": {},
     "output_type": "execute_result"
    },
    {
     "data": {
      "image/png": "[encoded data removed]",
      "text/plain": [
       "<Figure size 432x288 with 1 Axes>"
      ]
     },
     "metadata": {},
     "output_type": "display_data"
    }
   ],
   "source": [
    "plt.imshow(faces[10])"
   ]
  },
  {
   "cell_type": "code",
   "execution_count": 89,
   "metadata": {
    "collapsed": true
   },
   "outputs": [],
   "source": [
    "faces_dim = np.expand_dims(faces, -1)\n",
    "rotated_dim = np.expand_dims(rotated, -1)"
   ]
  },
  {
   "cell_type": "markdown",
   "metadata": {},
   "source": [
    "### Fit autoencoder"
   ]
  },
  {
   "cell_type": "code",
   "execution_count": 90,
   "metadata": {
    "collapsed": true
   },
   "outputs": [],
   "source": [
    "from keras.layers import Conv2D, Conv2DTranspose, Flatten, Input, Dense, Reshape, LeakyReLU"
   ]
  },
  {
   "cell_type": "code",
   "execution_count": 97,
   "metadata": {},
   "outputs": [
    {
     "data": {
      "text/plain": [
       "4096"
      ]
     },
     "execution_count": 97,
     "metadata": {},
     "output_type": "execute_result"
    }
   ],
   "source": [
    "64**2 "
   ]
  },
  {
   "cell_type": "code",
   "execution_count": 195,
   "metadata": {
    "collapsed": true
   },
   "outputs": [],
   "source": [
    "# encoder\n",
    "input_ = Input((64, 64, 1)) # 64\n",
    "x = Conv2D(filters=8, kernel_size=2, strides=2)(input_) # 32\n",
    "x = LeakyReLU(0)(x)\n",
    "\n",
    "x = Conv2D(filters=16, kernel_size=2, strides=2)(x) # 16\n",
    "x = LeakyReLU(0)(x)\n",
    "\n",
    "x = Conv2D(filters=32, kernel_size=2, strides=2)(x) # 8\n",
    "x = LeakyReLU(0)(x)\n",
    "\n",
    "x = Conv2D(filters=64, kernel_size=2, strides=2)(x) # 4\n",
    "x = LeakyReLU(0)(x)\n",
    "\n",
    "x = Conv2D(filters=128, kernel_size=2, strides=2)(x) # 2\n",
    "x = LeakyReLU(0)(x)\n",
    "\n",
    "flat = Flatten()(x)\n",
    "latent = Dense(128)(flat)\n",
    "\n",
    "# decoder\n",
    "dense = Dense(1024)\n",
    "reshape = Reshape((2,2,256)) #2\n",
    "conv_2t_1 = Conv2DTranspose(filters=128, kernel_size=2, strides=2) # 4\n",
    "conv_2t_2 = Conv2DTranspose(filters=64, kernel_size=2, strides=2) # 8\n",
    "conv_2t_3 = Conv2DTranspose(filters=32, kernel_size=2, strides=2) # 16\n",
    "conv_2t_4 = Conv2DTranspose(filters=16, kernel_size=2, strides=2) # 32\n",
    "conv_2t_5 = Conv2DTranspose(filters=1, kernel_size=2, strides=2, activation='sigmoid') # 64\n",
    "\n",
    "x = dense(latent)\n",
    "x = LeakyReLU(0)(x)\n",
    "\n",
    "x = reshape(x)\n",
    "x = conv_2t_1(x)\n",
    "x = LeakyReLU(0)(x)\n",
    "\n",
    "x = conv_2t_2(x)\n",
    "x = LeakyReLU(0)(x)\n",
    "\n",
    "x = conv_2t_3(x)\n",
    "x = LeakyReLU(0)(x)\n",
    "\n",
    "x = conv_2t_4(x)\n",
    "x = LeakyReLU(0)(x)\n",
    "\n",
    "decoded = conv_2t_5(x) # 64\n",
    "\n",
    "autoencoder = Model(input_, decoded)\n",
    "encoder = Model(input_, latent)\n",
    "\n",
    "decoder_input = Input((128,))\n",
    "x_ = dense(decoder_input)\n",
    "x_ = LeakyReLU(0)(x_)\n",
    "x_ = reshape(x_)\n",
    "\n",
    "x_ = conv_2t_1(x_)\n",
    "x_ = LeakyReLU(0)(x_)\n",
    "\n",
    "x_ = conv_2t_2(x_)\n",
    "x_ = LeakyReLU(0)(x_)\n",
    "\n",
    "x_ = conv_2t_3(x_)\n",
    "x_ = LeakyReLU(0)(x_)\n",
    "\n",
    "x_ = conv_2t_4(x_)\n",
    "x_ = LeakyReLU(0)(x_)\n",
    "\n",
    "decoded_ = conv_2t_5(x_) # 64\n",
    "decoder = Model(decoder_input, decoded_)"
   ]
  },
  {
   "cell_type": "code",
   "execution_count": 128,
   "metadata": {
    "collapsed": true
   },
   "outputs": [],
   "source": [
    "# # encoder\n",
    "# input_ = Input((64, 64, 1)) # 64\n",
    "# x = Conv2D(filters=32, kernel_size=2, strides=2, activation='relu')(input_) # 32\n",
    "# x = Conv2D(filters=64, kernel_size=2, strides=2, activation='relu')(x) # 16\n",
    "# x = Conv2D(filters=128, kernel_size=2, strides=2, activation='relu')(x) # 8\n",
    "# x = Conv2D(filters=256, kernel_size=2, strides=2, activation='relu')(x) # 4\n",
    "# x = Conv2D(filters=512, kernel_size=2, strides=2, activation='relu')(x) # 2\n",
    "# flat = Flatten()(x)\n",
    "# latent = Dense(128)(flat)\n",
    "\n",
    "# # decoder\n",
    "# reshape = Reshape((2,2,32)) #2\n",
    "# conv_2t_1 = Conv2DTranspose(filters=512, kernel_size=2, strides=2, activation='relu') # 4\n",
    "# conv_2t_2 = Conv2DTranspose(filters=256, kernel_size=2, strides=2, activation='relu') # 8\n",
    "# conv_2t_3 = Conv2DTranspose(filters=128, kernel_size=2, strides=2, activation='relu') # 16\n",
    "# conv_2t_4 = Conv2DTranspose(filters=64, kernel_size=2, strides=2, activation='relu') # 32\n",
    "# conv_2t_5 = Conv2DTranspose(filters=1, kernel_size=2, strides=2, activation='sigmoid') # 64\n",
    "\n",
    "# x = reshape(latent)\n",
    "# x = conv_2t_1(x)\n",
    "# x = conv_2t_2(x)\n",
    "# x = conv_2t_3(x)\n",
    "# x = conv_2t_4(x)\n",
    "# decoded = conv_2t_5(x) # 64\n",
    "\n",
    "# autoencoder = Model(input_, decoded)\n",
    "# encoder = Model(input_, latent)\n",
    "\n",
    "\n",
    "\n",
    "\n",
    "# decoder_input = Input((128,))\n",
    "# x_ = reshape(decoder_input)\n",
    "# x_ = conv_2t_1(x_)\n",
    "# x_ = conv_2t_2(x_)\n",
    "# x_ = conv_2t_3(x_)\n",
    "# x_ = conv_2t_4(x_)\n",
    "# decoded_ = conv_2t_5(x_) # 64\n",
    "# decoder = Model(decoder_input, decoded_)"
   ]
  },
  {
   "cell_type": "code",
   "execution_count": 211,
   "metadata": {},
   "outputs": [
    {
     "name": "stdout",
     "output_type": "stream",
     "text": [
      "_________________________________________________________________\n",
      "Layer (type)                 Output Shape              Param #   \n",
      "=================================================================\n",
      "input_29 (InputLayer)        (None, 64, 64, 1)         0         \n",
      "_________________________________________________________________\n",
      "conv2d_81 (Conv2D)           (None, 32, 32, 8)         40        \n",
      "_________________________________________________________________\n",
      "leaky_re_lu_174 (LeakyReLU)  (None, 32, 32, 8)         0         \n",
      "_________________________________________________________________\n",
      "conv2d_82 (Conv2D)           (None, 16, 16, 16)        528       \n",
      "_________________________________________________________________\n",
      "leaky_re_lu_175 (LeakyReLU)  (None, 16, 16, 16)        0         \n",
      "_________________________________________________________________\n",
      "conv2d_83 (Conv2D)           (None, 8, 8, 32)          2080      \n",
      "_________________________________________________________________\n",
      "leaky_re_lu_176 (LeakyReLU)  (None, 8, 8, 32)          0         \n",
      "_________________________________________________________________\n",
      "conv2d_84 (Conv2D)           (None, 4, 4, 64)          8256      \n",
      "_________________________________________________________________\n",
      "leaky_re_lu_177 (LeakyReLU)  (None, 4, 4, 64)          0         \n",
      "_________________________________________________________________\n",
      "conv2d_85 (Conv2D)           (None, 2, 2, 128)         32896     \n",
      "_________________________________________________________________\n",
      "leaky_re_lu_178 (LeakyReLU)  (None, 2, 2, 128)         0         \n",
      "_________________________________________________________________\n",
      "flatten_17 (Flatten)         (None, 512)               0         \n",
      "_________________________________________________________________\n",
      "dense_22 (Dense)             (None, 128)               65664     \n",
      "_________________________________________________________________\n",
      "dense_23 (Dense)             (None, 1024)              132096    \n",
      "_________________________________________________________________\n",
      "leaky_re_lu_179 (LeakyReLU)  (None, 1024)              0         \n",
      "_________________________________________________________________\n",
      "reshape_17 (Reshape)         (None, 2, 2, 256)         0         \n",
      "_________________________________________________________________\n",
      "conv2d_transpose_81 (Conv2DT (None, 4, 4, 128)         131200    \n",
      "_________________________________________________________________\n",
      "leaky_re_lu_180 (LeakyReLU)  (None, 4, 4, 128)         0         \n",
      "_________________________________________________________________\n",
      "conv2d_transpose_82 (Conv2DT (None, 8, 8, 64)          32832     \n",
      "_________________________________________________________________\n",
      "leaky_re_lu_181 (LeakyReLU)  (None, 8, 8, 64)          0         \n",
      "_________________________________________________________________\n",
      "conv2d_transpose_83 (Conv2DT (None, 16, 16, 32)        8224      \n",
      "_________________________________________________________________\n",
      "leaky_re_lu_182 (LeakyReLU)  (None, 16, 16, 32)        0         \n",
      "_________________________________________________________________\n",
      "conv2d_transpose_84 (Conv2DT (None, 32, 32, 16)        2064      \n",
      "_________________________________________________________________\n",
      "leaky_re_lu_183 (LeakyReLU)  (None, 32, 32, 16)        0         \n",
      "_________________________________________________________________\n",
      "conv2d_transpose_85 (Conv2DT (None, 64, 64, 1)         65        \n",
      "=================================================================\n",
      "Total params: 415,945\n",
      "Trainable params: 415,945\n",
      "Non-trainable params: 0\n",
      "_________________________________________________________________\n"
     ]
    }
   ],
   "source": [
    "autoencoder.summary() "
   ]
  },
  {
   "cell_type": "code",
   "execution_count": 196,
   "metadata": {
    "collapsed": true
   },
   "outputs": [],
   "source": [
    "autoencoder.compile(optimizer='adam', loss='binary_crossentropy')"
   ]
  },
  {
   "cell_type": "code",
   "execution_count": 197,
   "metadata": {},
   "outputs": [
    {
     "name": "stdout",
     "output_type": "stream",
     "text": [
      "Epoch 1/500\n",
      "13233/13233 [==============================] - 10s 740us/step - loss: 0.6720\n",
      "Epoch 2/500\n",
      "13233/13233 [==============================] - 6s 482us/step - loss: 0.6580\n",
      "Epoch 3/500\n",
      "13233/13233 [==============================] - 6s 443us/step - loss: 0.6542\n",
      "Epoch 4/500\n",
      "13233/13233 [==============================] - 7s 503us/step - loss: 0.6513\n",
      "Epoch 5/500\n",
      "13233/13233 [==============================] - 7s 517us/step - loss: 0.6493\n",
      "Epoch 6/500\n",
      "13233/13233 [==============================] - 7s 519us/step - loss: 0.6480\n",
      "Epoch 7/500\n",
      "13233/13233 [==============================] - 6s 477us/step - loss: 0.6470\n",
      "Epoch 8/500\n",
      "13233/13233 [==============================] - 5s 413us/step - loss: 0.6461\n",
      "Epoch 9/500\n",
      "13233/13233 [==============================] - 7s 503us/step - loss: 0.6454\n",
      "Epoch 10/500\n",
      "13233/13233 [==============================] - 7s 560us/step - loss: 0.6449\n",
      "Epoch 11/500\n",
      "13233/13233 [==============================] - 7s 512us/step - loss: 0.6443\n",
      "Epoch 12/500\n",
      "13233/13233 [==============================] - 6s 454us/step - loss: 0.6439\n",
      "Epoch 13/500\n",
      "13233/13233 [==============================] - 6s 467us/step - loss: 0.6436\n",
      "Epoch 14/500\n",
      "13233/13233 [==============================] - 6s 448us/step - loss: 0.6432\n",
      "Epoch 15/500\n",
      "13233/13233 [==============================] - 7s 520us/step - loss: 0.6429\n",
      "Epoch 16/500\n",
      "13233/13233 [==============================] - 8s 578us/step - loss: 0.6427\n",
      "Epoch 17/500\n",
      "13233/13233 [==============================] - 6s 430us/step - loss: 0.6424\n",
      "Epoch 18/500\n",
      "13233/13233 [==============================] - 6s 482us/step - loss: 0.6421\n",
      "Epoch 19/500\n",
      "13233/13233 [==============================] - 6s 440us/step - loss: 0.6420\n",
      "Epoch 20/500\n",
      "13233/13233 [==============================] - 6s 484us/step - loss: 0.6418\n",
      "Epoch 21/500\n",
      "13233/13233 [==============================] - 7s 547us/step - loss: 0.6416\n",
      "Epoch 22/500\n",
      "13233/13233 [==============================] - 7s 516us/step - loss: 0.6414\n",
      "Epoch 23/500\n",
      "13233/13233 [==============================] - 6s 458us/step - loss: 0.6413\n",
      "Epoch 24/500\n",
      "13233/13233 [==============================] - 6s 434us/step - loss: 0.6411\n",
      "Epoch 25/500\n",
      "13233/13233 [==============================] - 7s 505us/step - loss: 0.6409\n",
      "Epoch 26/500\n",
      "13233/13233 [==============================] - 7s 510us/step - loss: 0.6408\n",
      "Epoch 27/500\n",
      "13233/13233 [==============================] - 7s 542us/step - loss: 0.6406\n",
      "Epoch 28/500\n",
      "13233/13233 [==============================] - 6s 447us/step - loss: 0.6405\n",
      "Epoch 29/500\n",
      "13233/13233 [==============================] - 6s 463us/step - loss: 0.6404\n",
      "Epoch 30/500\n",
      "13233/13233 [==============================] - 6s 465us/step - loss: 0.6403\n",
      "Epoch 31/500\n",
      "13233/13233 [==============================] - 7s 517us/step - loss: 0.6402\n",
      "Epoch 32/500\n",
      "13233/13233 [==============================] - 7s 549us/step - loss: 0.6401\n",
      "Epoch 33/500\n",
      "13233/13233 [==============================] - 6s 468us/step - loss: 0.6399\n",
      "Epoch 34/500\n",
      "13233/13233 [==============================] - 6s 491us/step - loss: 0.6398\n",
      "Epoch 35/500\n",
      "13233/13233 [==============================] - 6s 430us/step - loss: 0.6398\n",
      "Epoch 36/500\n",
      "13233/13233 [==============================] - 6s 471us/step - loss: 0.6397\n",
      "Epoch 37/500\n",
      "13233/13233 [==============================] - 8s 567us/step - loss: 0.6396\n",
      "Epoch 38/500\n",
      "13233/13233 [==============================] - 7s 521us/step - loss: 0.6395\n",
      "Epoch 39/500\n",
      "13233/13233 [==============================] - 6s 455us/step - loss: 0.6394\n",
      "Epoch 40/500\n",
      "13233/13233 [==============================] - 6s 421us/step - loss: 0.6393\n",
      "Epoch 41/500\n",
      "13233/13233 [==============================] - 7s 514us/step - loss: 0.6392\n",
      "Epoch 42/500\n",
      "13233/13233 [==============================] - 6s 485us/step - loss: 0.6392\n",
      "Epoch 43/500\n",
      "13233/13233 [==============================] - 7s 561us/step - loss: 0.6391\n",
      "Epoch 44/500\n",
      "13233/13233 [==============================] - 6s 430us/step - loss: 0.6390\n",
      "Epoch 45/500\n",
      "13233/13233 [==============================] - 6s 471us/step - loss: 0.6390\n",
      "Epoch 46/500\n",
      "13233/13233 [==============================] - 6s 450us/step - loss: 0.6358\n",
      "Epoch 206/500\n",
      "13233/13233 [==============================] - 6s 424us/step - loss: 0.6358\n",
      "Epoch 207/500\n",
      "13233/13233 [==============================] - 7s 513us/step - loss: 0.6358\n",
      "Epoch 208/500\n",
      "13233/13233 [==============================] - 6s 480us/step - loss: 0.6358\n",
      "Epoch 209/500\n",
      "13233/13233 [==============================] - 8s 568us/step - loss: 0.6358\n",
      "Epoch 210/500\n",
      "13233/13233 [==============================] - 6s 456us/step - loss: 0.6358\n",
      "Epoch 211/500\n",
      "13233/13233 [==============================] - 6s 476us/step - loss: 0.6358\n",
      "Epoch 212/500\n",
      "13233/13233 [==============================] - 6s 461us/step - loss: 0.6358\n",
      "Epoch 213/500\n",
      "13233/13233 [==============================] - 7s 518us/step - loss: 0.6358\n",
      "Epoch 214/500\n",
      "13233/13233 [==============================] - 7s 549us/step - loss: 0.6358\n",
      "Epoch 215/500\n",
      "13233/13233 [==============================] - 6s 464us/step - loss: 0.6358\n",
      "Epoch 216/500\n",
      "13233/13233 [==============================] - 6s 483us/step - loss: 0.6358\n",
      "Epoch 217/500\n",
      "13233/13233 [==============================] - 5s 413us/step - loss: 0.6358\n",
      "Epoch 218/500\n",
      "13233/13233 [==============================] - 6s 490us/step - loss: 0.6358\n",
      "Epoch 219/500\n",
      "13233/13233 [==============================] - 7s 502us/step - loss: 0.6358\n",
      "Epoch 220/500\n",
      "13233/13233 [==============================] - 7s 547us/step - loss: 0.6358\n",
      "Epoch 221/500\n",
      "13233/13233 [==============================] - 6s 455us/step - loss: 0.6358\n",
      "Epoch 222/500\n",
      "13233/13233 [==============================] - 6s 482us/step - loss: 0.6357\n",
      "Epoch 223/500\n",
      "13233/13233 [==============================] - 6s 463us/step - loss: 0.6357\n",
      "Epoch 224/500\n",
      "13233/13233 [==============================] - 7s 517us/step - loss: 0.6357\n",
      "Epoch 225/500\n",
      "13233/13233 [==============================] - 7s 558us/step - loss: 0.6357\n",
      "Epoch 226/500\n",
      "13233/13233 [==============================] - 6s 452us/step - loss: 0.6357\n",
      "Epoch 227/500\n",
      "13233/13233 [==============================] - 6s 479us/step - loss: 0.6357\n",
      "Epoch 228/500\n",
      "13233/13233 [==============================] - 6s 437us/step - loss: 0.6357\n",
      "Epoch 229/500\n",
      "13233/13233 [==============================] - 7s 498us/step - loss: 0.6357\n",
      "Epoch 230/500\n",
      "13233/13233 [==============================] - 7s 544us/step - loss: 0.6357\n",
      "Epoch 231/500\n",
      "13233/13233 [==============================] - 7s 528us/step - loss: 0.6357\n",
      "Epoch 232/500\n",
      "13233/13233 [==============================] - 6s 468us/step - loss: 0.6357\n",
      "Epoch 233/500\n",
      "13233/13233 [==============================] - 6s 416us/step - loss: 0.6357\n",
      "Epoch 234/500\n",
      "13233/13233 [==============================] - 7s 508us/step - loss: 0.6357\n",
      "Epoch 235/500\n",
      "13233/13233 [==============================] - 7s 530us/step - loss: 0.6357\n",
      "Epoch 236/500\n",
      "13233/13233 [==============================] - 7s 518us/step - loss: 0.6357\n",
      "Epoch 237/500\n",
      "13233/13233 [==============================] - 6s 450us/step - loss: 0.6357\n",
      "Epoch 238/500\n",
      "13233/13233 [==============================] - 6s 473us/step - loss: 0.6357\n",
      "Epoch 239/500\n",
      "13233/13233 [==============================] - 6s 449us/step - loss: 0.6357\n",
      "Epoch 240/500\n",
      "13233/13233 [==============================] - 7s 526us/step - loss: 0.6357\n",
      "Epoch 241/500\n",
      "13233/13233 [==============================] - 7s 544us/step - loss: 0.6357\n",
      "Epoch 242/500\n",
      "13233/13233 [==============================] - 6s 466us/step - loss: 0.6357\n",
      "Epoch 243/500\n",
      "13233/13233 [==============================] - 6s 479us/step - loss: 0.6357\n",
      "Epoch 244/500\n",
      "13233/13233 [==============================] - 6s 420us/step - loss: 0.6357\n",
      "Epoch 245/500\n",
      "13233/13233 [==============================] - 6s 463us/step - loss: 0.6356\n",
      "Epoch 246/500\n",
      "13233/13233 [==============================] - 8s 588us/step - loss: 0.6356\n",
      "Epoch 247/500\n",
      "13233/13233 [==============================] - 7s 524us/step - loss: 0.6356\n",
      "Epoch 248/500\n",
      "13233/13233 [==============================] - 6s 452us/step - loss: 0.6356\n",
      "Epoch 249/500\n",
      "13233/13233 [==============================] - 6s 428us/step - loss: 0.6356\n",
      "Epoch 250/500\n",
      "13233/13233 [==============================] - 7s 507us/step - loss: 0.6356\n",
      "Epoch 251/500\n",
      "13233/13233 [==============================] - 6s 487us/step - loss: 0.6356\n",
      "Epoch 252/500\n",
      "13233/13233 [==============================] - 8s 575us/step - loss: 0.6356\n",
      "Epoch 253/500\n",
      "13233/13233 [==============================] - 6s 433us/step - loss: 0.6356\n",
      "Epoch 254/500\n",
      "13233/13233 [==============================] - 6s 473us/step - loss: 0.6356\n",
      "Epoch 255/500\n",
      "13233/13233 [==============================] - 6s 467us/step - loss: 0.6356\n",
      "Epoch 256/500\n",
      "13233/13233 [==============================] - 7s 507us/step - loss: 0.6356\n",
      "Epoch 257/500\n",
      "13233/13233 [==============================] - 7s 512us/step - loss: 0.6356\n",
      "Epoch 258/500\n",
      "13233/13233 [==============================] - 7s 499us/step - loss: 0.6356\n",
      "Epoch 259/500\n",
      "13233/13233 [==============================] - 6s 476us/step - loss: 0.6356\n",
      "Epoch 260/500\n",
      "13233/13233 [==============================] - 6s 420us/step - loss: 0.6356\n",
      "Epoch 261/500\n",
      "13233/13233 [==============================] - 6s 484us/step - loss: 0.6356\n",
      "Epoch 262/500\n",
      "13233/13233 [==============================] - 8s 580us/step - loss: 0.6356\n",
      "Epoch 263/500\n",
      "13233/13233 [==============================] - 7s 516us/step - loss: 0.6355\n",
      "Epoch 264/500\n",
      "13233/13233 [==============================] - 6s 430us/step - loss: 0.6356\n",
      "Epoch 265/500\n",
      "13233/13233 [==============================] - 6s 452us/step - loss: 0.6355\n",
      "Epoch 266/500\n",
      "13233/13233 [==============================] - 6s 473us/step - loss: 0.6356\n",
      "Epoch 267/500\n",
      "13233/13233 [==============================] - 7s 513us/step - loss: 0.6355\n",
      "Epoch 268/500\n",
      "13233/13233 [==============================] - 8s 597us/step - loss: 0.6355\n",
      "Epoch 269/500\n",
      "13233/13233 [==============================] - 6s 431us/step - loss: 0.6356\n",
      "Epoch 270/500\n",
      "13233/13233 [==============================] - 6s 475us/step - loss: 0.6355\n",
      "Epoch 271/500\n",
      "13233/13233 [==============================] - 6s 448us/step - loss: 0.6355\n",
      "Epoch 272/500\n",
      "13233/13233 [==============================] - 7s 494us/step - loss: 0.6355\n",
      "Epoch 273/500\n",
      "13233/13233 [==============================] - 7s 519us/step - loss: 0.6355\n",
      "Epoch 274/500\n",
      "13233/13233 [==============================] - 7s 519us/step - loss: 0.6355\n",
      "Epoch 275/500\n",
      "13233/13233 [==============================] - 6s 466us/step - loss: 0.6355\n",
      "Epoch 276/500\n",
      "13233/13233 [==============================] - 5s 411us/step - loss: 0.6355\n",
      "Epoch 277/500\n",
      "13233/13233 [==============================] - 7s 510us/step - loss: 0.6355\n",
      "Epoch 278/500\n",
      "13233/13233 [==============================] - 7s 533us/step - loss: 0.6355\n",
      "Epoch 279/500\n",
      "13233/13233 [==============================] - 7s 517us/step - loss: 0.6355\n",
      "Epoch 280/500\n",
      "13233/13233 [==============================] - 6s 455us/step - loss: 0.6355\n",
      "Epoch 281/500\n",
      "13233/13233 [==============================] - 6s 478us/step - loss: 0.6355\n",
      "Epoch 282/500\n",
      "13233/13233 [==============================] - 6s 453us/step - loss: 0.6355\n",
      "Epoch 283/500\n",
      "13233/13233 [==============================] - 7s 519us/step - loss: 0.6355\n",
      "Epoch 284/500\n",
      "13233/13233 [==============================] - 7s 541us/step - loss: 0.6355\n",
      "Epoch 285/500\n",
      "13233/13233 [==============================] - 6s 464us/step - loss: 0.6355\n",
      "Epoch 286/500\n",
      "13233/13233 [==============================] - 6s 481us/step - loss: 0.6355\n",
      "Epoch 287/500\n",
      "13233/13233 [==============================] - 6s 428us/step - loss: 0.6355\n",
      "Epoch 288/500\n",
      "13233/13233 [==============================] - 6s 488us/step - loss: 0.6355\n",
      "Epoch 289/500\n",
      "13233/13233 [==============================] - 7s 561us/step - loss: 0.6355\n",
      "Epoch 290/500\n",
      "13233/13233 [==============================] - 7s 517us/step - loss: 0.6355\n",
      "Epoch 291/500\n",
      "13233/13233 [==============================] - 6s 458us/step - loss: 0.6355\n",
      "Epoch 292/500\n",
      "13233/13233 [==============================] - 6s 420us/step - loss: 0.6355\n",
      "Epoch 293/500\n",
      "13233/13233 [==============================] - 7s 518us/step - loss: 0.6354\n",
      "Epoch 294/500\n",
      "13233/13233 [==============================] - 7s 503us/step - loss: 0.6355\n",
      "Epoch 295/500\n",
      "13233/13233 [==============================] - 7s 548us/step - loss: 0.6355\n",
      "Epoch 296/500\n",
      "13233/13233 [==============================] - 6s 455us/step - loss: 0.6354\n",
      "Epoch 297/500\n",
      "13233/13233 [==============================] - 6s 481us/step - loss: 0.6354\n",
      "Epoch 298/500\n",
      "13233/13233 [==============================] - 6s 448us/step - loss: 0.6354\n",
      "Epoch 299/500\n",
      "13233/13233 [==============================] - 7s 522us/step - loss: 0.6354\n",
      "Epoch 300/500\n",
      "13233/13233 [==============================] - 8s 569us/step - loss: 0.6354\n",
      "Epoch 301/500\n",
      "13233/13233 [==============================] - 6s 442us/step - loss: 0.6354\n",
      "Epoch 302/500\n",
      "13233/13233 [==============================] - 6s 479us/step - loss: 0.6354\n",
      "Epoch 303/500\n",
      "13233/13233 [==============================] - 6s 437us/step - loss: 0.6354\n",
      "Epoch 304/500\n",
      "13233/13233 [==============================] - 6s 485us/step - loss: 0.6354\n",
      "Epoch 305/500\n",
      "13233/13233 [==============================] - 7s 559us/step - loss: 0.6354\n",
      "Epoch 306/500\n",
      "13233/13233 [==============================] - 7s 521us/step - loss: 0.6354\n",
      "Epoch 307/500\n",
      "13233/13233 [==============================] - 6s 448us/step - loss: 0.6354\n",
      "Epoch 308/500\n",
      "13233/13233 [==============================] - 6s 420us/step - loss: 0.6354\n",
      "Epoch 309/500\n",
      "13233/13233 [==============================] - 7s 522us/step - loss: 0.6354\n",
      "Epoch 310/500\n",
      "13233/13233 [==============================] - 6s 482us/step - loss: 0.6354\n",
      "Epoch 311/500\n",
      "13233/13233 [==============================] - 7s 559us/step - loss: 0.6354\n",
      "Epoch 312/500\n",
      "13233/13233 [==============================] - 6s 430us/step - loss: 0.6354\n",
      "Epoch 313/500\n",
      "13233/13233 [==============================] - 6s 473us/step - loss: 0.6354\n",
      "Epoch 314/500\n",
      "13233/13233 [==============================] - 6s 467us/step - loss: 0.6354\n",
      "Epoch 315/500\n",
      "13233/13233 [==============================] - 7s 511us/step - loss: 0.6354\n",
      "Epoch 316/500\n",
      "13233/13233 [==============================] - 7s 530us/step - loss: 0.6354\n",
      "Epoch 317/500\n",
      "13233/13233 [==============================] - 7s 500us/step - loss: 0.6354\n",
      "Epoch 318/500\n",
      "13233/13233 [==============================] - 6s 484us/step - loss: 0.6354\n",
      "Epoch 319/500\n",
      "13233/13233 [==============================] - 6s 428us/step - loss: 0.6354\n",
      "Epoch 320/500\n",
      "13233/13233 [==============================] - 6s 460us/step - loss: 0.6354\n",
      "Epoch 321/500\n",
      "13233/13233 [==============================] - 8s 593us/step - loss: 0.6354\n",
      "Epoch 322/500\n",
      "13233/13233 [==============================] - 7s 523us/step - loss: 0.6353\n",
      "Epoch 323/500\n",
      "13233/13233 [==============================] - 6s 447us/step - loss: 0.6353\n",
      "Epoch 324/500\n",
      "13233/13233 [==============================] - 6s 421us/step - loss: 0.6354\n",
      "Epoch 325/500\n",
      "13233/13233 [==============================] - 7s 498us/step - loss: 0.6353\n",
      "Epoch 326/500\n",
      "13233/13233 [==============================] - 6s 482us/step - loss: 0.6353\n",
      "Epoch 327/500\n",
      "13233/13233 [==============================] - 8s 583us/step - loss: 0.6353\n",
      "Epoch 328/500\n",
      "13233/13233 [==============================] - 6s 426us/step - loss: 0.6354\n",
      "Epoch 329/500\n",
      "13233/13233 [==============================] - 6s 474us/step - loss: 0.6353\n",
      "Epoch 330/500\n",
      "13233/13233 [==============================] - 6s 463us/step - loss: 0.6353\n",
      "Epoch 331/500\n",
      "13233/13233 [==============================] - 7s 521us/step - loss: 0.6353\n",
      "Epoch 332/500\n",
      "13233/13233 [==============================] - 7s 526us/step - loss: 0.6353\n",
      "Epoch 333/500\n",
      "13233/13233 [==============================] - 6s 490us/step - loss: 0.6353\n",
      "Epoch 334/500\n",
      "13233/13233 [==============================] - 6s 475us/step - loss: 0.6353\n",
      "Epoch 335/500\n",
      "13233/13233 [==============================] - 6s 424us/step - loss: 0.6353\n",
      "Epoch 336/500\n",
      "13233/13233 [==============================] - 6s 470us/step - loss: 0.6353\n",
      "Epoch 337/500\n",
      "13233/13233 [==============================] - 8s 600us/step - loss: 0.6353\n",
      "Epoch 338/500\n",
      "13233/13233 [==============================] - 7s 524us/step - loss: 0.6353\n",
      "Epoch 339/500\n",
      "13233/13233 [==============================] - 6s 461us/step - loss: 0.6353\n",
      "Epoch 340/500\n",
      "13233/13233 [==============================] - 6s 416us/step - loss: 0.6353\n",
      "Epoch 341/500\n",
      "13233/13233 [==============================] - 7s 518us/step - loss: 0.6353\n",
      "Epoch 342/500\n"
     ]
    },
    {
     "name": "stdout",
     "output_type": "stream",
     "text": [
      "13233/13233 [==============================] - 6s 477us/step - loss: 0.6353\n",
      "Epoch 343/500\n",
      "13233/13233 [==============================] - 8s 575us/step - loss: 0.6353\n",
      "Epoch 344/500\n",
      "13233/13233 [==============================] - 6s 440us/step - loss: 0.6353\n",
      "Epoch 345/500\n",
      "13233/13233 [==============================] - 6s 470us/step - loss: 0.6353\n",
      "Epoch 346/500\n",
      "13233/13233 [==============================] - 6s 475us/step - loss: 0.6353\n",
      "Epoch 347/500\n",
      "13233/13233 [==============================] - 7s 507us/step - loss: 0.6353\n",
      "Epoch 348/500\n",
      "13233/13233 [==============================] - 7s 504us/step - loss: 0.6353\n",
      "Epoch 349/500\n",
      "13233/13233 [==============================] - 7s 492us/step - loss: 0.6353\n",
      "Epoch 350/500\n",
      "13233/13233 [==============================] - 6s 479us/step - loss: 0.6353\n",
      "Epoch 351/500\n",
      "13233/13233 [==============================] - 6s 429us/step - loss: 0.6353\n",
      "Epoch 352/500\n",
      "13233/13233 [==============================] - 6s 474us/step - loss: 0.6353\n",
      "Epoch 353/500\n",
      "13233/13233 [==============================] - 8s 596us/step - loss: 0.6353\n",
      "Epoch 354/500\n",
      "13233/13233 [==============================] - 7s 516us/step - loss: 0.6353\n",
      "Epoch 355/500\n",
      "13233/13233 [==============================] - 6s 457us/step - loss: 0.6353\n",
      "Epoch 356/500\n",
      "13233/13233 [==============================] - 6s 425us/step - loss: 0.6353\n",
      "Epoch 357/500\n",
      "13233/13233 [==============================] - 7s 495us/step - loss: 0.6353\n",
      "Epoch 358/500\n",
      "13233/13233 [==============================] - 6s 485us/step - loss: 0.6352\n",
      "Epoch 359/500\n",
      "13233/13233 [==============================] - 8s 590us/step - loss: 0.6353\n",
      "Epoch 360/500\n",
      "13233/13233 [==============================] - 6s 430us/step - loss: 0.6353\n",
      "Epoch 361/500\n",
      "13233/13233 [==============================] - 6s 470us/step - loss: 0.6353\n",
      "Epoch 362/500\n",
      "13233/13233 [==============================] - 6s 458us/step - loss: 0.6353\n",
      "Epoch 363/500\n",
      "13233/13233 [==============================] - 7s 509us/step - loss: 0.6352\n",
      "Epoch 364/500\n",
      "13233/13233 [==============================] - 7s 514us/step - loss: 0.6353\n",
      "Epoch 365/500\n",
      "13233/13233 [==============================] - 7s 511us/step - loss: 0.6352\n",
      "Epoch 366/500\n",
      "13233/13233 [==============================] - 6s 478us/step - loss: 0.6352\n",
      "Epoch 367/500\n",
      "13233/13233 [==============================] - 6s 417us/step - loss: 0.6352\n",
      "Epoch 368/500\n",
      "13233/13233 [==============================] - 6s 479us/step - loss: 0.6353\n",
      "Epoch 369/500\n",
      "13233/13233 [==============================] - 8s 577us/step - loss: 0.6352\n",
      "Epoch 370/500\n",
      "13233/13233 [==============================] - 7s 504us/step - loss: 0.6352\n",
      "Epoch 371/500\n",
      "13233/13233 [==============================] - 6s 454us/step - loss: 0.6352\n",
      "Epoch 372/500\n",
      "13233/13233 [==============================] - 6s 453us/step - loss: 0.6352\n",
      "Epoch 373/500\n",
      "13233/13233 [==============================] - 6s 486us/step - loss: 0.6352\n",
      "Epoch 374/500\n",
      "13233/13233 [==============================] - 7s 493us/step - loss: 0.6352\n",
      "Epoch 375/500\n",
      "13233/13233 [==============================] - 8s 590us/step - loss: 0.6352\n",
      "Epoch 376/500\n",
      "13233/13233 [==============================] - 6s 437us/step - loss: 0.6352\n",
      "Epoch 377/500\n",
      "13233/13233 [==============================] - 6s 473us/step - loss: 0.6352\n",
      "Epoch 378/500\n",
      "13233/13233 [==============================] - 6s 458us/step - loss: 0.6352\n",
      "Epoch 379/500\n",
      "13233/13233 [==============================] - 7s 509us/step - loss: 0.6352\n",
      "Epoch 380/500\n",
      "13233/13233 [==============================] - 7s 508us/step - loss: 0.6352\n",
      "Epoch 381/500\n",
      "13233/13233 [==============================] - 7s 525us/step - loss: 0.6352\n",
      "Epoch 382/500\n",
      "13233/13233 [==============================] - 6s 475us/step - loss: 0.6352\n",
      "Epoch 383/500\n",
      "13233/13233 [==============================] - 6s 425us/step - loss: 0.6352\n",
      "Epoch 384/500\n",
      "13233/13233 [==============================] - 6s 479us/step - loss: 0.6352\n",
      "Epoch 385/500\n",
      "13233/13233 [==============================] - 7s 565us/step - loss: 0.6352\n",
      "Epoch 386/500\n",
      "13233/13233 [==============================] - 7s 517us/step - loss: 0.6352\n",
      "Epoch 387/500\n",
      "13233/13233 [==============================] - 6s 459us/step - loss: 0.6352\n",
      "Epoch 388/500\n",
      "13233/13233 [==============================] - 6s 453us/step - loss: 0.6352\n",
      "Epoch 389/500\n",
      "13233/13233 [==============================] - 6s 482us/step - loss: 0.6352\n",
      "Epoch 390/500\n",
      "13233/13233 [==============================] - 7s 497us/step - loss: 0.6352\n",
      "Epoch 391/500\n",
      "13233/13233 [==============================] - 8s 591us/step - loss: 0.6352\n",
      "Epoch 392/500\n",
      "13233/13233 [==============================] - 6s 426us/step - loss: 0.6352\n",
      "Epoch 393/500\n",
      "13233/13233 [==============================] - 6s 470us/step - loss: 0.6352\n",
      "Epoch 394/500\n",
      "13233/13233 [==============================] - 6s 457us/step - loss: 0.6352\n",
      "Epoch 395/500\n",
      "13233/13233 [==============================] - 7s 521us/step - loss: 0.6352\n",
      "Epoch 396/500\n",
      "13233/13233 [==============================] - 7s 511us/step - loss: 0.6352\n",
      "Epoch 397/500\n",
      "13233/13233 [==============================] - 7s 506us/step - loss: 0.6352\n",
      "Epoch 398/500\n",
      "13233/13233 [==============================] - 6s 481us/step - loss: 0.6352\n",
      "Epoch 399/500\n",
      "13233/13233 [==============================] - 6s 426us/step - loss: 0.6352\n",
      "Epoch 400/500\n",
      "13233/13233 [==============================] - 6s 479us/step - loss: 0.6352\n",
      "Epoch 401/500\n",
      "13233/13233 [==============================] - 8s 586us/step - loss: 0.6352\n",
      "Epoch 402/500\n",
      "13233/13233 [==============================] - 7s 518us/step - loss: 0.6352\n",
      "Epoch 403/500\n",
      "13233/13233 [==============================] - 6s 436us/step - loss: 0.6352\n",
      "Epoch 404/500\n",
      "13233/13233 [==============================] - 6s 450us/step - loss: 0.6352\n",
      "Epoch 405/500\n",
      "13233/13233 [==============================] - 6s 462us/step - loss: 0.6352\n",
      "Epoch 406/500\n",
      "13233/13233 [==============================] - 7s 507us/step - loss: 0.6352\n",
      "Epoch 407/500\n",
      "13233/13233 [==============================] - 8s 596us/step - loss: 0.6352\n",
      "Epoch 408/500\n",
      "13233/13233 [==============================] - 6s 425us/step - loss: 0.6351\n",
      "Epoch 409/500\n",
      "13233/13233 [==============================] - 6s 477us/step - loss: 0.6351\n",
      "Epoch 410/500\n",
      "13233/13233 [==============================] - 6s 448us/step - loss: 0.6352\n",
      "Epoch 411/500\n",
      "13233/13233 [==============================] - 7s 501us/step - loss: 0.6351\n",
      "Epoch 412/500\n",
      "13233/13233 [==============================] - 7s 521us/step - loss: 0.6351\n",
      "Epoch 413/500\n",
      "13233/13233 [==============================] - 7s 521us/step - loss: 0.6352\n",
      "Epoch 414/500\n",
      "13233/13233 [==============================] - 6s 480us/step - loss: 0.6351\n",
      "Epoch 415/500\n",
      "13233/13233 [==============================] - 5s 413us/step - loss: 0.6351\n",
      "Epoch 416/500\n",
      "13233/13233 [==============================] - 7s 495us/step - loss: 0.6351\n",
      "Epoch 417/500\n",
      "13233/13233 [==============================] - 7s 553us/step - loss: 0.6351\n",
      "Epoch 418/500\n",
      "13233/13233 [==============================] - 7s 503us/step - loss: 0.6351\n",
      "Epoch 419/500\n",
      "13233/13233 [==============================] - 6s 438us/step - loss: 0.6351\n",
      "Epoch 420/500\n",
      "13233/13233 [==============================] - 6s 484us/step - loss: 0.6351\n",
      "Epoch 421/500\n",
      "13233/13233 [==============================] - 6s 456us/step - loss: 0.6351\n",
      "Epoch 422/500\n",
      "13233/13233 [==============================] - 7s 527us/step - loss: 0.6351\n",
      "Epoch 423/500\n",
      "13233/13233 [==============================] - 8s 578us/step - loss: 0.6351\n",
      "Epoch 424/500\n",
      "13233/13233 [==============================] - 6s 434us/step - loss: 0.6351\n",
      "Epoch 425/500\n",
      "13233/13233 [==============================] - 6s 477us/step - loss: 0.6351\n",
      "Epoch 426/500\n",
      "13233/13233 [==============================] - 6s 447us/step - loss: 0.6351\n",
      "Epoch 427/500\n",
      "13233/13233 [==============================] - 7s 493us/step - loss: 0.6351\n",
      "Epoch 428/500\n",
      "13233/13233 [==============================] - 7s 540us/step - loss: 0.6351\n",
      "Epoch 429/500\n",
      "13233/13233 [==============================] - 7s 526us/step - loss: 0.6351\n",
      "Epoch 430/500\n",
      "13233/13233 [==============================] - 6s 469us/step - loss: 0.6351\n",
      "Epoch 431/500\n",
      "13233/13233 [==============================] - 6s 420us/step - loss: 0.6351\n",
      "Epoch 432/500\n",
      "13233/13233 [==============================] - 7s 506us/step - loss: 0.6351\n",
      "Epoch 433/500\n",
      "13233/13233 [==============================] - 8s 573us/step - loss: 0.6351\n",
      "Epoch 434/500\n",
      "13233/13233 [==============================] - 7s 531us/step - loss: 0.6351\n",
      "Epoch 435/500\n",
      "13233/13233 [==============================] - 6s 446us/step - loss: 0.6351\n",
      "Epoch 436/500\n",
      "13233/13233 [==============================] - 6s 454us/step - loss: 0.6351\n",
      "Epoch 437/500\n",
      "13233/13233 [==============================] - 6s 483us/step - loss: 0.6351\n",
      "Epoch 438/500\n",
      "13233/13233 [==============================] - 6s 491us/step - loss: 0.6351\n",
      "Epoch 439/500\n",
      "13233/13233 [==============================] - 8s 592us/step - loss: 0.6351\n",
      "Epoch 440/500\n",
      "13233/13233 [==============================] - 6s 436us/step - loss: 0.6351\n",
      "Epoch 441/500\n",
      "13233/13233 [==============================] - 6s 472us/step - loss: 0.6351\n",
      "Epoch 442/500\n",
      "13233/13233 [==============================] - 6s 471us/step - loss: 0.6351\n",
      "Epoch 443/500\n",
      "13233/13233 [==============================] - 7s 527us/step - loss: 0.6351\n",
      "Epoch 444/500\n",
      "13233/13233 [==============================] - 7s 514us/step - loss: 0.6351\n",
      "Epoch 445/500\n",
      "13233/13233 [==============================] - 7s 506us/step - loss: 0.6351\n",
      "Epoch 446/500\n",
      "13233/13233 [==============================] - 6s 486us/step - loss: 0.6351\n",
      "Epoch 447/500\n",
      "13233/13233 [==============================] - 6s 428us/step - loss: 0.6351\n",
      "Epoch 448/500\n",
      "13233/13233 [==============================] - 6s 461us/step - loss: 0.6351\n",
      "Epoch 449/500\n",
      "13233/13233 [==============================] - 8s 594us/step - loss: 0.6351\n",
      "Epoch 450/500\n",
      "13233/13233 [==============================] - 7s 508us/step - loss: 0.6351\n",
      "Epoch 451/500\n",
      "13233/13233 [==============================] - 6s 448us/step - loss: 0.6351\n",
      "Epoch 452/500\n",
      "13233/13233 [==============================] - 6s 451us/step - loss: 0.6351\n",
      "Epoch 453/500\n",
      "13233/13233 [==============================] - 6s 442us/step - loss: 0.6351\n",
      "Epoch 454/500\n",
      "13233/13233 [==============================] - 7s 512us/step - loss: 0.6351\n",
      "Epoch 455/500\n",
      "13233/13233 [==============================] - 7s 512us/step - loss: 0.6351\n",
      "Epoch 456/500\n",
      "13233/13233 [==============================] - 7s 500us/step - loss: 0.6351\n",
      "Epoch 457/500\n",
      "13233/13233 [==============================] - 7s 492us/step - loss: 0.6350\n",
      "Epoch 458/500\n",
      "13233/13233 [==============================] - 5s 400us/step - loss: 0.6351\n",
      "Epoch 459/500\n",
      "13233/13233 [==============================] - 6s 483us/step - loss: 0.6351\n",
      "Epoch 460/500\n",
      "13233/13233 [==============================] - 7s 510us/step - loss: 0.6351\n",
      "Epoch 461/500\n",
      "13233/13233 [==============================] - 7s 546us/step - loss: 0.6351\n",
      "Epoch 462/500\n",
      "13233/13233 [==============================] - 6s 460us/step - loss: 0.6351\n",
      "Epoch 463/500\n",
      "13233/13233 [==============================] - 6s 459us/step - loss: 0.6351\n",
      "Epoch 464/500\n",
      "13233/13233 [==============================] - 6s 430us/step - loss: 0.6351\n",
      "Epoch 465/500\n",
      "13233/13233 [==============================] - 6s 468us/step - loss: 0.6351\n",
      "Epoch 466/500\n",
      "13233/13233 [==============================] - 7s 550us/step - loss: 0.6350\n",
      "Epoch 467/500\n",
      "13233/13233 [==============================] - 7s 511us/step - loss: 0.6350\n",
      "Epoch 468/500\n",
      "13233/13233 [==============================] - 6s 473us/step - loss: 0.6350\n",
      "Epoch 469/500\n",
      "13233/13233 [==============================] - 6s 417us/step - loss: 0.6351\n",
      "Epoch 470/500\n",
      "13233/13233 [==============================] - 6s 437us/step - loss: 0.6350\n",
      "Epoch 471/500\n",
      "13233/13233 [==============================] - 7s 540us/step - loss: 0.6350\n",
      "Epoch 472/500\n",
      "13233/13233 [==============================] - 8s 576us/step - loss: 0.6350\n",
      "Epoch 473/500\n",
      "13233/13233 [==============================] - 6s 465us/step - loss: 0.6350\n",
      "Epoch 474/500\n",
      "13233/13233 [==============================] - 6s 489us/step - loss: 0.6350\n",
      "Epoch 475/500\n",
      "13233/13233 [==============================] - 5s 411us/step - loss: 0.6350\n",
      "Epoch 476/500\n",
      "13233/13233 [==============================] - 6s 453us/step - loss: 0.6350\n",
      "Epoch 477/500\n",
      "13233/13233 [==============================] - 8s 574us/step - loss: 0.6350\n",
      "Epoch 478/500\n",
      "13233/13233 [==============================] - 7s 499us/step - loss: 0.6350\n",
      "Epoch 479/500\n",
      "13233/13233 [==============================] - 6s 466us/step - loss: 0.6350\n",
      "Epoch 480/500\n",
      "13233/13233 [==============================] - 6s 460us/step - loss: 0.6350\n",
      "Epoch 481/500\n",
      "13233/13233 [==============================] - 6s 425us/step - loss: 0.6350\n",
      "Epoch 482/500\n",
      "13233/13233 [==============================] - 7s 509us/step - loss: 0.6351\n",
      "Epoch 483/500\n",
      "13233/13233 [==============================] - 7s 498us/step - loss: 0.6350\n",
      "Epoch 484/500\n",
      "13233/13233 [==============================] - 7s 521us/step - loss: 0.6350\n",
      "Epoch 485/500\n",
      "13233/13233 [==============================] - 6s 458us/step - loss: 0.6350\n",
      "Epoch 486/500\n",
      "13233/13233 [==============================] - 5s 402us/step - loss: 0.6350\n",
      "Epoch 487/500\n",
      "13233/13233 [==============================] - 6s 445us/step - loss: 0.6350\n",
      "Epoch 488/500\n",
      "13233/13233 [==============================] - 7s 521us/step - loss: 0.6350\n",
      "Epoch 489/500\n",
      "13233/13233 [==============================] - 8s 572us/step - loss: 0.6350\n",
      "Epoch 490/500\n",
      "13233/13233 [==============================] - 6s 467us/step - loss: 0.6350\n",
      "Epoch 491/500\n",
      "13233/13233 [==============================] - 6s 477us/step - loss: 0.6350\n",
      "Epoch 492/500\n",
      "13233/13233 [==============================] - 5s 407us/step - loss: 0.6350\n",
      "Epoch 493/500\n",
      "13233/13233 [==============================] - 6s 458us/step - loss: 0.6350\n",
      "Epoch 494/500\n",
      "13233/13233 [==============================] - 8s 574us/step - loss: 0.6350\n",
      "Epoch 495/500\n",
      "13233/13233 [==============================] - 7s 503us/step - loss: 0.6350\n",
      "Epoch 496/500\n",
      "13233/13233 [==============================] - 6s 467us/step - loss: 0.6350\n",
      "Epoch 497/500\n",
      "13233/13233 [==============================] - 6s 451us/step - loss: 0.6350\n",
      "Epoch 498/500\n",
      "13233/13233 [==============================] - 6s 421us/step - loss: 0.6350\n",
      "Epoch 499/500\n",
      "13233/13233 [==============================] - 7s 503us/step - loss: 0.6350\n",
      "Epoch 500/500\n",
      "13233/13233 [==============================] - 7s 518us/step - loss: 0.6350\n"
     ]
    },
    {
     "data": {
      "text/plain": [
       "<keras.callbacks.History at 0x7f8b4cea0fd0>"
      ]
     },
     "execution_count": 197,
     "metadata": {},
     "output_type": "execute_result"
    }
   ],
   "source": [
    "autoencoder.fit(rotated_dim, faces_dim, epochs=500)"
   ]
  },
  {
   "cell_type": "code",
   "execution_count": 203,
   "metadata": {
    "collapsed": true
   },
   "outputs": [],
   "source": [
    "s_num = 44 "
   ]
  },
  {
   "cell_type": "code",
   "execution_count": 204,
   "metadata": {},
   "outputs": [
    {
     "data": {
      "text/plain": [
       "<matplotlib.image.AxesImage at 0x7f8b4be5ed68>"
      ]
     },
     "execution_count": 204,
     "metadata": {},
     "output_type": "execute_result"
    },
    {
     "data": {
      "image/png": "[encoded data removed]",
      "text/plain": [
       "<Figure size 432x288 with 1 Axes>"
      ]
     },
     "metadata": {},
     "output_type": "display_data"
    }
   ],
   "source": [
    "plt.imshow(rotated[s_num]) "
   ]
  },
  {
   "cell_type": "code",
   "execution_count": 208,
   "metadata": {
    "collapsed": true
   },
   "outputs": [],
   "source": [
    "pred = autoencoder.predict(rotated_dim[:100])"
   ]
  },
  {
   "cell_type": "code",
   "execution_count": 209,
   "metadata": {
    "collapsed": true
   },
   "outputs": [],
   "source": [
    "pred = pred.squeeze(-1)"
   ]
  },
  {
   "cell_type": "code",
   "execution_count": 210,
   "metadata": {},
   "outputs": [
    {
     "data": {
      "text/plain": [
       "<matplotlib.image.AxesImage at 0x7f8b4bdd4940>"
      ]
     },
     "execution_count": 210,
     "metadata": {},
     "output_type": "execute_result"
    },
    {
     "data": {
      "image/png": "[encoded data removed]",
      "text/plain": [
       "<Figure size 432x288 with 1 Axes>"
      ]
     },
     "metadata": {},
     "output_type": "display_data"
    }
   ],
   "source": [
    "plt.imshow(pred[s_num], cmap='gray')"
   ]
  },
  {
   "cell_type": "code",
   "execution_count": 213,
   "metadata": {
    "collapsed": true
   },
   "outputs": [],
   "source": [
    "!mkdir ./models"
   ]
  },
  {
   "cell_type": "code",
   "execution_count": 214,
   "metadata": {},
   "outputs": [],
   "source": [
    "# save weights\n",
    "encoder.save_weights('./models/encoder_weights_32e.h5')\n",
    "decoder.save_weights('./models/decoder_weights_32e.h5')\n",
    "\n",
    "# save architecture\n",
    "json_encoder = encoder.to_json()\n",
    "json_decoder = decoder.to_json()\n",
    "\n",
    "with open('./models/encoder_json_32e.txt', 'w') as file:\n",
    "    file.write(json_encoder)\n",
    "\n",
    "with open('./models/decoder_json_32e.txt', 'w') as file:\n",
    "    file.write(json_decoder)"
   ]
  },
  {
   "cell_type": "code",
   "execution_count": 215,
   "metadata": {},
   "outputs": [
    {
     "name": "stdout",
     "output_type": "stream",
     "text": [
      "1.7M\tmodels\r\n"
     ]
    }
   ],
   "source": [
    "!du -sh models"
   ]
  },
  {
   "cell_type": "code",
   "execution_count": null,
   "metadata": {
    "collapsed": true
   },
   "outputs": [],
   "source": []
  },
  {
   "cell_type": "code",
   "execution_count": null,
   "metadata": {
    "collapsed": true
   },
   "outputs": [],
   "source": []
  },
  {
   "cell_type": "code",
   "execution_count": null,
   "metadata": {
    "collapsed": true
   },
   "outputs": [],
   "source": []
  },
  {
   "cell_type": "code",
   "execution_count": null,
   "metadata": {
    "collapsed": true
   },
   "outputs": [],
   "source": []
  },
  {
   "cell_type": "code",
   "execution_count": null,
   "metadata": {
    "collapsed": true
   },
   "outputs": [],
   "source": []
  },
  {
   "cell_type": "code",
   "execution_count": 111,
   "metadata": {},
   "outputs": [
    {
     "name": "stdout",
     "output_type": "stream",
     "text": [
      "hello\n",
      "hello\n"
     ]
    }
   ],
   "source": [
    "a = [None, None, 5 ,6 ]\n",
    "\n",
    "for i in a:\n",
    "    if i is None:\n",
    "        print('hello')"
   ]
  },
  {
   "cell_type": "code",
   "execution_count": null,
   "metadata": {
    "collapsed": true
   },
   "outputs": [],
   "source": []
  },
  {
   "cell_type": "code",
   "execution_count": 57,
   "metadata": {},
   "outputs": [
    {
     "data": {
      "text/plain": [
       "array([0, 1, 2, 3, 4, 5, 6, 7, 8])"
      ]
     },
     "execution_count": 57,
     "metadata": {},
     "output_type": "execute_result"
    }
   ],
   "source": [
    "a = np.arange(9)\n",
    "a "
   ]
  },
  {
   "cell_type": "code",
   "execution_count": 69,
   "metadata": {},
   "outputs": [
    {
     "data": {
      "text/plain": [
       "array([0, 1, 2, 3, 4, 5, 6, 7, 8])"
      ]
     },
     "execution_count": 69,
     "metadata": {},
     "output_type": "execute_result"
    }
   ],
   "source": [
    "b = np.arange(9)\n",
    "b "
   ]
  },
  {
   "cell_type": "code",
   "execution_count": 67,
   "metadata": {},
   "outputs": [
    {
     "data": {
      "text/plain": [
       "array([0, 1, 7, 3, 5, 6, 4, 8, 2])"
      ]
     },
     "execution_count": 67,
     "metadata": {},
     "output_type": "execute_result"
    }
   ],
   "source": [
    "idxs = np.random.choice(np.arange(len(a)), len(a), replace=False)\n",
    "idxs"
   ]
  },
  {
   "cell_type": "code",
   "execution_count": 70,
   "metadata": {},
   "outputs": [
    {
     "data": {
      "text/plain": [
       "(array([0, 1, 7, 3, 5, 6, 4, 8, 2]), array([0, 1, 7, 3, 5, 6, 4, 8, 2]))"
      ]
     },
     "execution_count": 70,
     "metadata": {},
     "output_type": "execute_result"
    }
   ],
   "source": [
    "a[idxs], b[idxs]"
   ]
  },
  {
   "cell_type": "code",
   "execution_count": null,
   "metadata": {
    "collapsed": true
   },
   "outputs": [],
   "source": []
  },
  {
   "cell_type": "code",
   "execution_count": null,
   "metadata": {
    "collapsed": true
   },
   "outputs": [],
   "source": []
  },
  {
   "cell_type": "code",
   "execution_count": 35,
   "metadata": {},
   "outputs": [
    {
     "data": {
      "text/plain": [
       "<matplotlib.image.AxesImage at 0x7f305e7f09e8>"
      ]
     },
     "execution_count": 35,
     "metadata": {},
     "output_type": "execute_result"
    },
    {
     "data": {
      "image/png": "[encoded data removed]",
      "text/plain": [
       "<Figure size 432x288 with 1 Axes>"
      ]
     },
     "metadata": {},
     "output_type": "display_data"
    }
   ],
   "source": [
    "plt.imshow(pred[5], cmap='gray')"
   ]
  },
  {
   "cell_type": "code",
   "execution_count": 36,
   "metadata": {},
   "outputs": [
    {
     "data": {
      "text/plain": [
       "4096"
      ]
     },
     "execution_count": 36,
     "metadata": {},
     "output_type": "execute_result"
    }
   ],
   "source": [
    "64*64"
   ]
  },
  {
   "cell_type": "code",
   "execution_count": null,
   "metadata": {
    "collapsed": true
   },
   "outputs": [],
   "source": []
  }
 ],
 "metadata": {
  "kernelspec": {
   "display_name": "Python 3",
   "language": "python",
   "name": "python3"
  },
  "language_info": {
   "codemirror_mode": {
    "name": "ipython",
    "version": 3
   },
   "file_extension": ".py",
   "mimetype": "text/x-python",
   "name": "python",
   "nbconvert_exporter": "python",
   "pygments_lexer": "ipython3",
   "version": "3.6.3"
  }
 },
 "nbformat": 4,
 "nbformat_minor": 2
}
